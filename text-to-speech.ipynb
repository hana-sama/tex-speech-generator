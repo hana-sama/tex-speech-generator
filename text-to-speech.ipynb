{
 "cells": [
  {
   "cell_type": "code",
   "execution_count": 1,
   "id": "5a6955eb-a704-4d6b-85f3-39a58735df2c",
   "metadata": {},
   "outputs": [],
   "source": [
    "import os"
   ]
  },
  {
   "cell_type": "code",
   "execution_count": 2,
   "id": "82e40433-5731-415b-84f9-d847b1c5b87c",
   "metadata": {},
   "outputs": [],
   "source": [
    "os.environ['GOOGLE_APPLICATION_CREDENTIALS'] = 'secret.json'"
   ]
  },
  {
   "cell_type": "code",
   "execution_count": 3,
   "id": "6463577c-be76-4fb0-aced-130814b17e6a",
   "metadata": {},
   "outputs": [
    {
     "name": "stdout",
     "output_type": "stream",
     "text": [
      "Collecting google-cloud-texttospeech\n",
      "  Downloading google_cloud_texttospeech-2.5.0-py2.py3-none-any.whl (65 kB)\n",
      "\u001b[K     |████████████████████████████████| 65 kB 179 kB/s eta 0:00:01\n",
      "\u001b[?25hCollecting proto-plus>=1.4.0\n",
      "  Downloading proto_plus-1.19.0-py3-none-any.whl (42 kB)\n",
      "\u001b[K     |████████████████████████████████| 42 kB 748 kB/s eta 0:00:01\n",
      "\u001b[?25hRequirement already satisfied: packaging>=14.3 in /Users/hana/.miniconda/envs/ML/lib/python3.9/site-packages (from google-cloud-texttospeech) (21.0)\n",
      "Collecting google-api-core[grpc]<2.0.0dev,>=1.26.0\n",
      "  Downloading google_api_core-1.31.0-py2.py3-none-any.whl (93 kB)\n",
      "\u001b[K     |████████████████████████████████| 93 kB 1.3 MB/s eta 0:00:01\n",
      "\u001b[?25hRequirement already satisfied: requests<3.0.0dev,>=2.18.0 in /Users/hana/.miniconda/envs/ML/lib/python3.9/site-packages (from google-api-core[grpc]<2.0.0dev,>=1.26.0->google-cloud-texttospeech) (2.26.0)\n",
      "Requirement already satisfied: pytz in /Users/hana/.miniconda/envs/ML/lib/python3.9/site-packages (from google-api-core[grpc]<2.0.0dev,>=1.26.0->google-cloud-texttospeech) (2021.1)\n",
      "Requirement already satisfied: setuptools>=40.3.0 in /Users/hana/.miniconda/envs/ML/lib/python3.9/site-packages (from google-api-core[grpc]<2.0.0dev,>=1.26.0->google-cloud-texttospeech) (49.6.0.post20210108)\n",
      "Collecting google-auth<2.0dev,>=1.25.0\n",
      "  Downloading google_auth-1.33.0-py2.py3-none-any.whl (151 kB)\n",
      "\u001b[K     |████████████████████████████████| 151 kB 2.1 MB/s eta 0:00:01\n",
      "\u001b[?25hCollecting googleapis-common-protos<2.0dev,>=1.6.0\n",
      "  Downloading googleapis_common_protos-1.53.0-py2.py3-none-any.whl (198 kB)\n",
      "\u001b[K     |████████████████████████████████| 198 kB 1.9 MB/s eta 0:00:01\n",
      "\u001b[?25hRequirement already satisfied: six>=1.13.0 in /Users/hana/.miniconda/envs/ML/lib/python3.9/site-packages (from google-api-core[grpc]<2.0.0dev,>=1.26.0->google-cloud-texttospeech) (1.16.0)\n",
      "Requirement already satisfied: protobuf>=3.12.0 in /Users/hana/.miniconda/envs/ML/lib/python3.9/site-packages (from google-api-core[grpc]<2.0.0dev,>=1.26.0->google-cloud-texttospeech) (3.17.3)\n",
      "Collecting grpcio<2.0dev,>=1.29.0\n",
      "  Downloading grpcio-1.38.1-cp39-cp39-macosx_10_10_x86_64.whl (3.9 MB)\n",
      "\u001b[K     |████████████████████████████████| 3.9 MB 2.3 MB/s eta 0:00:01\n",
      "\u001b[?25hRequirement already satisfied: cachetools<5.0,>=2.0.0 in /Users/hana/.miniconda/envs/ML/lib/python3.9/site-packages (from google-auth<2.0dev,>=1.25.0->google-api-core[grpc]<2.0.0dev,>=1.26.0->google-cloud-texttospeech) (4.2.2)\n",
      "Collecting pyasn1-modules>=0.2.1\n",
      "  Downloading pyasn1_modules-0.2.8-py2.py3-none-any.whl (155 kB)\n",
      "\u001b[K     |████████████████████████████████| 155 kB 1.8 MB/s eta 0:00:01\n",
      "\u001b[?25hCollecting rsa<5,>=3.1.4\n",
      "  Downloading rsa-4.7.2-py3-none-any.whl (34 kB)\n",
      "Requirement already satisfied: pyparsing>=2.0.2 in /Users/hana/.miniconda/envs/ML/lib/python3.9/site-packages (from packaging>=14.3->google-cloud-texttospeech) (2.4.7)\n",
      "Collecting pyasn1<0.5.0,>=0.4.6\n",
      "  Downloading pyasn1-0.4.8-py2.py3-none-any.whl (77 kB)\n",
      "\u001b[K     |████████████████████████████████| 77 kB 1.5 MB/s eta 0:00:01\n",
      "\u001b[?25hRequirement already satisfied: certifi>=2017.4.17 in /Users/hana/.miniconda/envs/ML/lib/python3.9/site-packages (from requests<3.0.0dev,>=2.18.0->google-api-core[grpc]<2.0.0dev,>=1.26.0->google-cloud-texttospeech) (2021.5.30)\n",
      "Requirement already satisfied: urllib3<1.27,>=1.21.1 in /Users/hana/.miniconda/envs/ML/lib/python3.9/site-packages (from requests<3.0.0dev,>=2.18.0->google-api-core[grpc]<2.0.0dev,>=1.26.0->google-cloud-texttospeech) (1.26.6)\n",
      "Requirement already satisfied: idna<4,>=2.5 in /Users/hana/.miniconda/envs/ML/lib/python3.9/site-packages (from requests<3.0.0dev,>=2.18.0->google-api-core[grpc]<2.0.0dev,>=1.26.0->google-cloud-texttospeech) (3.1)\n",
      "Requirement already satisfied: charset-normalizer~=2.0.0 in /Users/hana/.miniconda/envs/ML/lib/python3.9/site-packages (from requests<3.0.0dev,>=2.18.0->google-api-core[grpc]<2.0.0dev,>=1.26.0->google-cloud-texttospeech) (2.0.0)\n",
      "Installing collected packages: pyasn1, rsa, pyasn1-modules, googleapis-common-protos, google-auth, grpcio, google-api-core, proto-plus, google-cloud-texttospeech\n",
      "Successfully installed google-api-core-1.31.0 google-auth-1.33.0 google-cloud-texttospeech-2.5.0 googleapis-common-protos-1.53.0 grpcio-1.38.1 proto-plus-1.19.0 pyasn1-0.4.8 pyasn1-modules-0.2.8 rsa-4.7.2\n"
     ]
    }
   ],
   "source": [
    "!pip install --upgrade google-cloud-texttospeech"
   ]
  },
  {
   "cell_type": "code",
   "execution_count": 4,
   "id": "fb606702-ca8a-4dcc-8b97-c515e5b0149d",
   "metadata": {},
   "outputs": [
    {
     "name": "stdout",
     "output_type": "stream",
     "text": [
      "音声データをoutput.mp3に書き出しました。\n"
     ]
    }
   ],
   "source": [
    "from google.cloud import texttospeech\n",
    "\n",
    "client = texttospeech.TextToSpeechClient()\n",
    "\n",
    "synthesis_input = texttospeech.SynthesisInput(text=\"Hello, World!\")\n",
    "\n",
    "voice = texttospeech.VoiceSelectionParams(\n",
    "    language_code=\"en-US\", ssml_gender=texttospeech.SsmlVoiceGender.FEMALE\n",
    ")\n",
    "\n",
    "audio_config = texttospeech.AudioConfig(\n",
    "    audio_encoding=texttospeech.AudioEncoding.MP3\n",
    ")\n",
    "\n",
    "response = client.synthesize_speech(\n",
    "    input=synthesis_input, voice=voice, audio_config=audio_config\n",
    ")\n",
    "\n",
    "filename = \"output.mp3\"\n",
    "with open(filename, \"wb\") as out:\n",
    "    out.write(response.audio_content)\n",
    "    print(f'音声データを{filename}に書き出しました。')"
   ]
  },
  {
   "cell_type": "code",
   "execution_count": 5,
   "id": "df03ddef-b491-43e9-b208-b452d708b4ec",
   "metadata": {},
   "outputs": [],
   "source": [
    "from google.cloud import texttospeech\n",
    "\n",
    "client = texttospeech.TextToSpeechClient()\n",
    "\n",
    "synthesis_input = texttospeech.SynthesisInput(text=\"こんにちは、私はプログラミング講師のいまにゅです。\")\n",
    "\n",
    "voice = texttospeech.VoiceSelectionParams(\n",
    "    language_code=\"ja-JP\", ssml_gender=texttospeech.SsmlVoiceGender.FEMALE\n",
    ")\n",
    "\n",
    "audio_config = texttospeech.AudioConfig(\n",
    "    audio_encoding=texttospeech.AudioEncoding.MP3\n",
    ")\n",
    "\n",
    "response = client.synthesize_speech(\n",
    "    input=synthesis_input, voice=voice, audio_config=audio_config\n",
    ")\n",
    "\n",
    "# filename = \"output.mp3\"\n",
    "# with open(filename, \"wb\") as out:\n",
    "#     out.write(response.audio_content)\n",
    "#     print(f'音声データを{filename}に書き出しました。')"
   ]
  },
  {
   "cell_type": "code",
   "execution_count": 6,
   "id": "d4fc03af-04b3-44c0-842b-deeafe6d0039",
   "metadata": {},
   "outputs": [
    {
     "data": {
      "text/html": [
       "\n",
       "                <audio  controls=\"controls\" >\n",
       "                    <source src=\"data:audio/wav;base64,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\" type=\"audio/wav\" />\n",
       "                    Your browser does not support the audio element.\n",
       "                </audio>\n",
       "              "
      ],
      "text/plain": [
       "<IPython.lib.display.Audio object>"
      ]
     },
     "execution_count": 6,
     "metadata": {},
     "output_type": "execute_result"
    }
   ],
   "source": [
    "from IPython.display import Audio\n",
    "Audio(response.audio_content)"
   ]
  },
  {
   "cell_type": "code",
   "execution_count": 7,
   "id": "e043b3c4-c667-42c0-b706-5ab35cee0ff9",
   "metadata": {},
   "outputs": [],
   "source": [
    "from google.cloud import texttospeech"
   ]
  },
  {
   "cell_type": "code",
   "execution_count": 13,
   "id": "771a68e5-2e99-473c-9cf6-298bd33cab01",
   "metadata": {},
   "outputs": [],
   "source": [
    "def synthesize_speech(text, lang='英語', gender='default'):\n",
    "    gender_type = {\n",
    "        'default': texttospeech.SsmlVoiceGender.SSML_VOICE_GENDER_UNSPECIFIED,\n",
    "        'male': texttospeech.SsmlVoiceGender.MALE,\n",
    "        'female': texttospeech.SsmlVoiceGender.FEMALE,\n",
    "        'neutral': texttospeech.SsmlVoiceGender.NEUTRAL\n",
    "    }\n",
    "    lang_code = {\n",
    "        '英語': 'en-US',\n",
    "        '日本語': 'ja-JP'\n",
    "    }\n",
    "    \n",
    "\n",
    "    client = texttospeech.TextToSpeechClient()\n",
    "\n",
    "    synthesis_input = texttospeech.SynthesisInput(text=text)\n",
    "\n",
    "    voice = texttospeech.VoiceSelectionParams(\n",
    "        language_code=lang_code[lang], ssml_gender=gender_type[gender]\n",
    "    )\n",
    "\n",
    "    audio_config = texttospeech.AudioConfig(\n",
    "        audio_encoding=texttospeech.AudioEncoding.MP3\n",
    "    )\n",
    "\n",
    "    response = client.synthesize_speech(\n",
    "        input=synthesis_input, voice=voice, audio_config=audio_config\n",
    "    )\n",
    "    return response"
   ]
  },
  {
   "cell_type": "code",
   "execution_count": 16,
   "id": "b1559f72-5400-4535-9999-65d41e72494e",
   "metadata": {},
   "outputs": [
    {
     "data": {
      "text/html": [
       "\n",
       "                <audio  controls=\"controls\" >\n",
       "                    <source src=\"data:audio/wav;base64,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\" type=\"audio/wav\" />\n",
       "                    Your browser does not support the audio element.\n",
       "                </audio>\n",
       "              "
      ],
      "text/plain": [
       "<IPython.lib.display.Audio object>"
      ]
     },
     "execution_count": 16,
     "metadata": {},
     "output_type": "execute_result"
    }
   ],
   "source": [
    "lang ='英語'\n",
    "gender = 'default'\n",
    "text = \"Hello, my name is Angela Yu!\"\n",
    "response = synthesize_speech(text, lang=lang, gender='male')\n",
    "Audio(response.audio_content)"
   ]
  },
  {
   "cell_type": "code",
   "execution_count": null,
   "id": "d3bdc9c4-9d18-4176-82ff-294e8ee18a83",
   "metadata": {},
   "outputs": [],
   "source": []
  }
 ],
 "metadata": {
  "kernelspec": {
   "display_name": "Python 3 (ipykernel)",
   "language": "python",
   "name": "python3"
  },
  "language_info": {
   "codemirror_mode": {
    "name": "ipython",
    "version": 3
   },
   "file_extension": ".py",
   "mimetype": "text/x-python",
   "name": "python",
   "nbconvert_exporter": "python",
   "pygments_lexer": "ipython3",
   "version": "3.9.6"
  }
 },
 "nbformat": 4,
 "nbformat_minor": 5
}
